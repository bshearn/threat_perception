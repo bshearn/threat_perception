{
 "cells": [
  {
   "cell_type": "code",
   "execution_count": null,
   "id": "886d00b3",
   "metadata": {},
   "outputs": [],
   "source": [
    "import pandas as pd\n",
    "import numpy as np\n",
    "from numpy.random import randint, choice, seed\n",
    "from gensim.models import Word2Vec, KeyedVectors\n",
    "from dask import delayed, compute\n",
    "from dask.distributed import Client\n",
    "import dask.dataframe as dd\n",
    "from glob import glob\n",
    "import re\n",
    "from sklearn.linear_model import ElasticNetCV\n",
    "from sklearn.model_selection import train_test_split\n",
    "from sklearn.preprocessing import scale"
   ]
  },
  {
   "cell_type": "code",
   "execution_count": null,
   "id": "f784f36f",
   "metadata": {},
   "outputs": [],
   "source": [
    "vector_dir = 'G:/vectors/'"
   ]
  },
  {
   "cell_type": "code",
   "execution_count": null,
   "id": "99637e9f",
   "metadata": {},
   "outputs": [],
   "source": [
    "vector_files = glob(vector_dir + '*wordvectors')"
   ]
  },
  {
   "cell_type": "code",
   "execution_count": null,
   "id": "248e83f5",
   "metadata": {},
   "outputs": [],
   "source": [
    "vector_files = pd.Series(vector_files)"
   ]
  },
  {
   "cell_type": "code",
   "execution_count": null,
   "id": "49e0588c",
   "metadata": {},
   "outputs": [],
   "source": [
    "countries = pd.read_csv('countries.csv')"
   ]
  },
  {
   "cell_type": "code",
   "execution_count": null,
   "id": "1d2aae54",
   "metadata": {},
   "outputs": [],
   "source": [
    "countries = countries['country'].str.lower().unique()"
   ]
  },
  {
   "cell_type": "code",
   "execution_count": null,
   "id": "5bfb33b2",
   "metadata": {},
   "outputs": [],
   "source": [
    "threat_df = pd.read_parquet('G:/threat_wordscale.parquet')"
   ]
  },
  {
   "cell_type": "code",
   "execution_count": null,
   "id": "a6f46c53",
   "metadata": {},
   "outputs": [],
   "source": [
    "threat_levels = threat_df.groupby('word')['threat_level'].mean().reset_index()"
   ]
  },
  {
   "cell_type": "code",
   "execution_count": null,
   "id": "15831be0",
   "metadata": {},
   "outputs": [],
   "source": [
    "threat_levels['threat_level'] = scale(threat_levels['threat_level'])"
   ]
  },
  {
   "cell_type": "code",
   "execution_count": null,
   "id": "2225f98e",
   "metadata": {},
   "outputs": [],
   "source": [
    "threat_levels.set_index('word', inplace = True)"
   ]
  },
  {
   "cell_type": "code",
   "execution_count": null,
   "id": "03e5d98a",
   "metadata": {},
   "outputs": [],
   "source": [
    "def train_model(X_train, y_train):\n",
    "    elasticnet = ElasticNetCV(l1_ratio = [.1, .5, .7, .9, .95, .99, 1],\n",
    "                             cv = 5, n_jobs = 1, random_state = 8265, \n",
    "                             max_iter = 10000, selection = 'random')\n",
    "    elasticnet.fit(X_train, y_train)\n",
    "    return elasticnet"
   ]
  },
  {
   "cell_type": "code",
   "execution_count": null,
   "id": "035bef51",
   "metadata": {},
   "outputs": [],
   "source": [
    "def get_vectors(filename, countries, threat_levels):\n",
    "    vectors = KeyedVectors.load(filename)\n",
    "    vocab = set(vectors.key_to_index)\n",
    "    countries = list(vocab.intersection(countries))\n",
    "    vocab = list(vocab.intersection(threat_levels.index))\n",
    "    if len(vocab) > 0:\n",
    "        y = threat_levels.loc[threat_levels.index.isin(vocab), \n",
    "                              'threat_level'].reindex(index = vocab)\n",
    "        X = vectors[vocab]\n",
    "    else:\n",
    "        y = np.array([])\n",
    "        X = np.array([])\n",
    "    if len(countries) > 0:\n",
    "        country_vectors = vectors[countries]\n",
    "    else:\n",
    "        country_vectors = np.array([])\n",
    "    return X, y, countries, country_vectors"
   ]
  },
  {
   "cell_type": "code",
   "execution_count": null,
   "id": "314d0516",
   "metadata": {},
   "outputs": [],
   "source": [
    "def estimate_threat(filename, countries, threat_levels):\n",
    "    X, y, countries, country_vectors = get_vectors(filename, countries, threat_levels)\n",
    "    if (X.size > 0) and (country_vectors.size > 0):\n",
    "        month = re.search('\\\\d{1,2}-\\\\d{4}', filename).group(0)\n",
    "        X_train, X_test, y_train, y_test = train_test_split(X, y, test_size = 0.2, random_state = 680)\n",
    "        model = train_model(X_train, y_train)\n",
    "        threat_scores = pd.DataFrame({'country':countries, \n",
    "                                      'threat_perception':model.predict(country_vectors),\n",
    "                                      'month':month})\n",
    "        test_set = pd.DataFrame({'word':y_test.index, 'actual':y_test, \n",
    "                                 'predicted':model.predict(X_test), 'month':month})\n",
    "    else:\n",
    "        threat_scores = pd.DataFrame(columns = ['country', 'threat_perception', 'month'])\n",
    "        test_set = pd.DataFrame(columns = ['word', 'actual', 'predicted', 'month'])\n",
    "    threat_scores = threat_scores.astype({'country':str, 'threat_perception':float, 'month':str})\n",
    "    test_set = test_set.astype({'word':str, 'actual':float, 'predicted':float, 'month':str})\n",
    "    test_filename = 'G:/model_test/' + filename.split('.')[0].split('\\\\')[1] + '_test_set.csv'\n",
    "    test_set.to_csv(test_filename, index = False)\n",
    "    return threat_scores"
   ]
  },
  {
   "cell_type": "code",
   "execution_count": null,
   "id": "f19f3123",
   "metadata": {},
   "outputs": [],
   "source": [
    "# client = Client(n_workers = 8)"
   ]
  },
  {
   "cell_type": "code",
   "execution_count": null,
   "id": "e9ed6913",
   "metadata": {},
   "outputs": [],
   "source": [
    "threat_list = [delayed(estimate_threat)(filename, countries, threat_levels) for filename in vector_files]"
   ]
  },
  {
   "cell_type": "code",
   "execution_count": null,
   "id": "87e3b2d6",
   "metadata": {},
   "outputs": [],
   "source": [
    "threat_df = dd.from_delayed(threat_list, meta = {'country':str, 'threat_perception':float, 'month':str})"
   ]
  },
  {
   "cell_type": "code",
   "execution_count": null,
   "id": "5bc96467",
   "metadata": {},
   "outputs": [],
   "source": [
    "threat_df = threat_df.repartition(partition_size = '100MB')"
   ]
  },
  {
   "cell_type": "code",
   "execution_count": null,
   "id": "a51e3264",
   "metadata": {},
   "outputs": [],
   "source": [
    "threat_df.to_parquet('G:/threat_perception.parquet')"
   ]
  },
  {
   "cell_type": "code",
   "execution_count": null,
   "id": "354ff83d",
   "metadata": {},
   "outputs": [],
   "source": [
    "# client.close()"
   ]
  }
 ],
 "metadata": {
  "kernelspec": {
   "display_name": "Python 3 (ipykernel)",
   "language": "python",
   "name": "python3"
  },
  "language_info": {
   "codemirror_mode": {
    "name": "ipython",
    "version": 3
   },
   "file_extension": ".py",
   "mimetype": "text/x-python",
   "name": "python",
   "nbconvert_exporter": "python",
   "pygments_lexer": "ipython3",
   "version": "3.7.13"
  }
 },
 "nbformat": 4,
 "nbformat_minor": 5
}
