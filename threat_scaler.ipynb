{
 "cells": [
  {
   "cell_type": "code",
   "execution_count": 1,
   "id": "886d00b3",
   "metadata": {},
   "outputs": [],
   "source": [
    "import pandas as pd\n",
    "from numpy.random import randint, choice, seed\n",
    "from gensim.models import Word2Vec, KeyedVectors\n",
    "from dask import delayed, compute\n",
    "from dask.distributed import Client\n",
    "import dask.dataframe as dd\n",
    "from glob import glob\n",
    "import re"
   ]
  },
  {
   "cell_type": "code",
   "execution_count": 2,
   "id": "f784f36f",
   "metadata": {},
   "outputs": [],
   "source": [
    "vector_dir = 'G:/vectors/'"
   ]
  },
  {
   "cell_type": "code",
   "execution_count": 3,
   "id": "99637e9f",
   "metadata": {},
   "outputs": [],
   "source": [
    "vector_files = glob(vector_dir + '*wordvectors')"
   ]
  },
  {
   "cell_type": "code",
   "execution_count": 4,
   "id": "248e83f5",
   "metadata": {},
   "outputs": [],
   "source": [
    "vector_files = pd.Series(vector_files)"
   ]
  },
  {
   "cell_type": "code",
   "execution_count": 5,
   "id": "49e0588c",
   "metadata": {},
   "outputs": [],
   "source": [
    "countries = pd.read_csv('countries.csv')"
   ]
  },
  {
   "cell_type": "code",
   "execution_count": 6,
   "id": "1d2aae54",
   "metadata": {},
   "outputs": [],
   "source": [
    "countries = countries['country'].str.lower().unique()"
   ]
  },
  {
   "cell_type": "code",
   "execution_count": 7,
   "id": "5bfb33b2",
   "metadata": {},
   "outputs": [],
   "source": [
    "threat_labels = pd.read_csv('threat_labels.csv')"
   ]
  },
  {
   "cell_type": "code",
   "execution_count": 8,
   "id": "49f18af6",
   "metadata": {},
   "outputs": [],
   "source": [
    "threat_labels['month_yr'] = threat_labels['month'].astype(str) + '-' + threat_labels['year'].astype(str)"
   ]
  },
  {
   "cell_type": "code",
   "execution_count": 9,
   "id": "70a7e768",
   "metadata": {},
   "outputs": [],
   "source": [
    "ccodes = pd.read_csv('ccodes.csv')"
   ]
  },
  {
   "cell_type": "code",
   "execution_count": 10,
   "id": "1eec51cc",
   "metadata": {},
   "outputs": [],
   "source": [
    "threat_labels = threat_labels.merge(ccodes[['country.name.en', 'iso3c']])"
   ]
  },
  {
   "cell_type": "code",
   "execution_count": 11,
   "id": "5254b15d",
   "metadata": {},
   "outputs": [],
   "source": [
    "threat_labels = threat_labels[['code', 'month_yr', 'country.name.en']]"
   ]
  },
  {
   "cell_type": "code",
   "execution_count": 12,
   "id": "0851082b",
   "metadata": {},
   "outputs": [],
   "source": [
    "threat_labels.rename(columns = {'country.name.en':'country'}, inplace = True)"
   ]
  },
  {
   "cell_type": "code",
   "execution_count": 13,
   "id": "7e16aea0",
   "metadata": {},
   "outputs": [],
   "source": [
    "threat_labels['country'] = threat_labels['country'].str.lower()"
   ]
  },
  {
   "cell_type": "code",
   "execution_count": 14,
   "id": "314d0516",
   "metadata": {},
   "outputs": [],
   "source": [
    "def calculate_threat(filename, row, countries):\n",
    "    code, month, country = row\n",
    "    vectors = KeyedVectors.load(filename)\n",
    "    vocab = set(vectors.key_to_index)\n",
    "    if country in vocab:\n",
    "        vocab = vocab.difference(countries)\n",
    "        vocab = list(vocab)\n",
    "        similarities = KeyedVectors.cosine_similarities(vectors[country], vectors[vocab])\n",
    "        threat_levels = pd.DataFrame({'country':country,\n",
    "                                      'word':vocab,\n",
    "                                      'threat_level':code * similarities,\n",
    "                                      'month':month})\n",
    "    else:\n",
    "        threat_levels = pd.DataFrame(columns = ['country', 'word', 'threat_level', 'month'])\n",
    "    threat_levels = threat_levels.astype({'country':str, 'word':str, 'threat_level':float, 'month':str})\n",
    "    return threat_levels"
   ]
  },
  {
   "cell_type": "code",
   "execution_count": 15,
   "id": "f19f3123",
   "metadata": {},
   "outputs": [],
   "source": [
    "# client = Client(n_workers = 8)"
   ]
  },
  {
   "cell_type": "code",
   "execution_count": 16,
   "id": "e9ed6913",
   "metadata": {},
   "outputs": [],
   "source": [
    "threat_list = []"
   ]
  },
  {
   "cell_type": "code",
   "execution_count": 17,
   "id": "a9f908a9",
   "metadata": {},
   "outputs": [],
   "source": [
    "for row in threat_labels.itertuples(index = False):\n",
    "    matching_files = vector_files.loc[vector_files.str.contains(row[1])]\n",
    "    threat_list.extend([delayed(calculate_threat)(filename, row, \n",
    "                        countries) for filename in matching_files])"
   ]
  },
  {
   "cell_type": "code",
   "execution_count": 18,
   "id": "87e3b2d6",
   "metadata": {},
   "outputs": [],
   "source": [
    "threat_df = dd.from_delayed(threat_list, meta = {'country':str, 'word':str, \n",
    "                                                 'threat_level':float, 'month':str})"
   ]
  },
  {
   "cell_type": "code",
   "execution_count": 19,
   "id": "5bc96467",
   "metadata": {},
   "outputs": [],
   "source": [
    "threat_df = threat_df.repartition(partition_size = '100MB')"
   ]
  },
  {
   "cell_type": "code",
   "execution_count": 20,
   "id": "a51e3264",
   "metadata": {},
   "outputs": [
    {
     "data": {
      "text/plain": [
       "(None,)"
      ]
     },
     "execution_count": 20,
     "metadata": {},
     "output_type": "execute_result"
    }
   ],
   "source": [
    "threat_df.to_parquet('G:/threat_wordscale.parquet')"
   ]
  },
  {
   "cell_type": "code",
   "execution_count": 21,
   "id": "354ff83d",
   "metadata": {},
   "outputs": [],
   "source": [
    "# client.close()"
   ]
  }
 ],
 "metadata": {
  "kernelspec": {
   "display_name": "Python 3 (ipykernel)",
   "language": "python",
   "name": "python3"
  },
  "language_info": {
   "codemirror_mode": {
    "name": "ipython",
    "version": 3
   },
   "file_extension": ".py",
   "mimetype": "text/x-python",
   "name": "python",
   "nbconvert_exporter": "python",
   "pygments_lexer": "ipython3",
   "version": "3.7.13"
  }
 },
 "nbformat": 4,
 "nbformat_minor": 5
}
