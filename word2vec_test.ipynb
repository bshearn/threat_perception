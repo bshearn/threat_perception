{
 "cells": [
  {
   "cell_type": "code",
   "execution_count": 1,
   "id": "886d00b3",
   "metadata": {},
   "outputs": [],
   "source": [
    "import pandas as pd\n",
    "from numpy.random import randint, choice, seed\n",
    "from gensim.models import Word2Vec\n",
    "from dask import delayed, compute\n",
    "from dask.distributed import Client\n",
    "import os"
   ]
  },
  {
   "cell_type": "code",
   "execution_count": 2,
   "id": "99637e9f",
   "metadata": {},
   "outputs": [],
   "source": [
    "corpus = pd.read_csv('sentence_tokens.tsv', sep = '\\\\t', engine = 'python')"
   ]
  },
  {
   "cell_type": "code",
   "execution_count": 3,
   "id": "d97a23f4",
   "metadata": {},
   "outputs": [],
   "source": [
    "corpus = corpus.dropna(subset = ['text'])"
   ]
  },
  {
   "cell_type": "code",
   "execution_count": 4,
   "id": "c243ea9c",
   "metadata": {},
   "outputs": [],
   "source": [
    "corpus['text'] = corpus['text'].str.split(',').fillna('')"
   ]
  },
  {
   "cell_type": "code",
   "execution_count": 5,
   "id": "e2596676",
   "metadata": {},
   "outputs": [],
   "source": [
    "corpus = corpus.groupby('month_yr')['text'].agg(list).reset_index()"
   ]
  },
  {
   "cell_type": "code",
   "execution_count": 6,
   "id": "45975802",
   "metadata": {},
   "outputs": [
    {
     "data": {
      "text/html": [
       "<div>\n",
       "<style scoped>\n",
       "    .dataframe tbody tr th:only-of-type {\n",
       "        vertical-align: middle;\n",
       "    }\n",
       "\n",
       "    .dataframe tbody tr th {\n",
       "        vertical-align: top;\n",
       "    }\n",
       "\n",
       "    .dataframe thead th {\n",
       "        text-align: right;\n",
       "    }\n",
       "</style>\n",
       "<table border=\"1\" class=\"dataframe\">\n",
       "  <thead>\n",
       "    <tr style=\"text-align: right;\">\n",
       "      <th></th>\n",
       "      <th>month_yr</th>\n",
       "      <th>text</th>\n",
       "    </tr>\n",
       "  </thead>\n",
       "  <tbody>\n",
       "    <tr>\n",
       "      <th>0</th>\n",
       "      <td>1-1948</td>\n",
       "      <td>[[well, known, now, india, has, made, referenc...</td>\n",
       "    </tr>\n",
       "    <tr>\n",
       "      <th>1</th>\n",
       "      <td>1-1949</td>\n",
       "      <td>[[your, excellency, mr, premier, vice-chancell...</td>\n",
       "    </tr>\n",
       "    <tr>\n",
       "      <th>2</th>\n",
       "      <td>1-1950</td>\n",
       "      <td>[[mr, chancellor, mr, vice-chancellor, fellow,...</td>\n",
       "    </tr>\n",
       "    <tr>\n",
       "      <th>3</th>\n",
       "      <td>1-1951</td>\n",
       "      <td>[[your, highness, should, just, like, say, how...</td>\n",
       "    </tr>\n",
       "    <tr>\n",
       "      <th>4</th>\n",
       "      <td>1-1955</td>\n",
       "      <td>[[french, establishments, land, customs, cordo...</td>\n",
       "    </tr>\n",
       "    <tr>\n",
       "      <th>...</th>\n",
       "      <td>...</td>\n",
       "      <td>...</td>\n",
       "    </tr>\n",
       "    <tr>\n",
       "      <th>824</th>\n",
       "      <td>9-2014</td>\n",
       "      <td>[[official, spokespersons, response, queries, ...</td>\n",
       "    </tr>\n",
       "    <tr>\n",
       "      <th>825</th>\n",
       "      <td>9-2015</td>\n",
       "      <td>[[most, venerable, dr, founder, chancellor, in...</td>\n",
       "    </tr>\n",
       "    <tr>\n",
       "      <th>826</th>\n",
       "      <td>9-2016</td>\n",
       "      <td>[[your, excellency, president, abdel, fattah, ...</td>\n",
       "    </tr>\n",
       "    <tr>\n",
       "      <th>827</th>\n",
       "      <td>9-2017</td>\n",
       "      <td>[[your, excellencies, president, new developme...</td>\n",
       "    </tr>\n",
       "    <tr>\n",
       "      <th>828</th>\n",
       "      <td>9-2019</td>\n",
       "      <td>[[governor, gujarat, acharya, governor, uttar ...</td>\n",
       "    </tr>\n",
       "  </tbody>\n",
       "</table>\n",
       "<p>829 rows × 2 columns</p>\n",
       "</div>"
      ],
      "text/plain": [
       "    month_yr                                               text\n",
       "0     1-1948  [[well, known, now, india, has, made, referenc...\n",
       "1     1-1949  [[your, excellency, mr, premier, vice-chancell...\n",
       "2     1-1950  [[mr, chancellor, mr, vice-chancellor, fellow,...\n",
       "3     1-1951  [[your, highness, should, just, like, say, how...\n",
       "4     1-1955  [[french, establishments, land, customs, cordo...\n",
       "..       ...                                                ...\n",
       "824   9-2014  [[official, spokespersons, response, queries, ...\n",
       "825   9-2015  [[most, venerable, dr, founder, chancellor, in...\n",
       "826   9-2016  [[your, excellency, president, abdel, fattah, ...\n",
       "827   9-2017  [[your, excellencies, president, new developme...\n",
       "828   9-2019  [[governor, gujarat, acharya, governor, uttar ...\n",
       "\n",
       "[829 rows x 2 columns]"
      ]
     },
     "execution_count": 6,
     "metadata": {},
     "output_type": "execute_result"
    }
   ],
   "source": [
    "corpus"
   ]
  },
  {
   "cell_type": "code",
   "execution_count": 7,
   "id": "1ac61de6",
   "metadata": {},
   "outputs": [],
   "source": [
    "seed(932487)\n",
    "seeds = randint(1, 100000, 100)"
   ]
  },
  {
   "cell_type": "code",
   "execution_count": 8,
   "id": "3f9ed9cd",
   "metadata": {},
   "outputs": [],
   "source": [
    "def generate_hyperparameters(rseed):\n",
    "    seed(rseed)\n",
    "    vsize = choice(range(50, 360, 10))\n",
    "    wsize = choice(range(2, 11, 1))\n",
    "    nsize = choice(range(5, 21, 1))\n",
    "    return vsize, wsize, nsize"
   ]
  },
  {
   "cell_type": "code",
   "execution_count": 9,
   "id": "d1034821",
   "metadata": {},
   "outputs": [],
   "source": [
    "def run_word2vec(seed_idx, rseed, month, tokens, vector_dir):\n",
    "    # sample tokens with replacement\n",
    "    sample_tokens = tokens.sample(n = len(tokens), replace = True, random_state = rseed)\n",
    "    # randomly generate SGNS hyperparameters\n",
    "    vsize, wsize, nsize = generate_hyperparameters(rseed)\n",
    "    print('Training model', seed_idx, 'for', month)\n",
    "    # train word embeddings \n",
    "    ## set workers to max available threads on node if using more than one node in cluster\n",
    "    ## providing seed, but not fully reproducible without multithreading hash function if workers > 1\n",
    "    model = Word2Vec(sentences = sample_tokens, vector_size = vsize, window = wsize, \n",
    "                     min_count = 1, workers = 1, sg = 1, negative = nsize, seed = rseed)\n",
    "    word_vectors = model.wv\n",
    "    print('Saving results\\n')\n",
    "    # save model to avoid running out of memory\n",
    "    filepath = vector_dir + month + '-' + str(seed_idx) + '.wordvectors'\n",
    "    word_vectors.save(filepath)\n",
    "    return"
   ]
  },
  {
   "cell_type": "code",
   "execution_count": 10,
   "id": "53cc7450",
   "metadata": {},
   "outputs": [],
   "source": [
    "client = Client(n_workers = 8)"
   ]
  },
  {
   "cell_type": "code",
   "execution_count": 11,
   "id": "3e8c276e",
   "metadata": {},
   "outputs": [],
   "source": [
    "vector_dir = 'G:/vectors/'\n",
    "if not os.path.exists(vector_dir):\n",
    "    os.makedirs(vector_dir)"
   ]
  },
  {
   "cell_type": "code",
   "execution_count": 12,
   "id": "4471e9b3",
   "metadata": {},
   "outputs": [],
   "source": [
    "for row in corpus.itertuples(index = False):\n",
    "    # extract month and tokens\n",
    "    month = row[0]\n",
    "    ## convert to pandas series for easier sampling\n",
    "    tokens = pd.Series(row[1])\n",
    "    # tokens object is too large to simply pass to function; scatter to all workers before executing\n",
    "    tokens = client.scatter(tokens, broadcast = True)\n",
    "    compute([delayed(run_word2vec)(seed_idx, rseed, month, tokens, vector_dir) for seed_idx, \n",
    "             rseed in enumerate(seeds)])"
   ]
  },
  {
   "cell_type": "code",
   "execution_count": 13,
   "id": "61bf1968",
   "metadata": {},
   "outputs": [],
   "source": [
    "client.close()"
   ]
  }
 ],
 "metadata": {
  "kernelspec": {
   "display_name": "Python 3 (ipykernel)",
   "language": "python",
   "name": "python3"
  },
  "language_info": {
   "codemirror_mode": {
    "name": "ipython",
    "version": 3
   },
   "file_extension": ".py",
   "mimetype": "text/x-python",
   "name": "python",
   "nbconvert_exporter": "python",
   "pygments_lexer": "ipython3",
   "version": "3.7.13"
  }
 },
 "nbformat": 4,
 "nbformat_minor": 5
}
