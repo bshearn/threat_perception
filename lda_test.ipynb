{
 "cells": [
  {
   "cell_type": "code",
   "execution_count": 1,
   "id": "886d00b3",
   "metadata": {},
   "outputs": [],
   "source": [
    "import pandas as pd\n",
    "from sklearn.decomposition import LatentDirichletAllocation\n",
    "from sklearn.feature_extraction.text import CountVectorizer, TfidfVectorizer \n",
    "from numpy.random import randint, choice, seed"
   ]
  },
  {
   "cell_type": "code",
   "execution_count": 2,
   "id": "99637e9f",
   "metadata": {},
   "outputs": [],
   "source": [
    "corpus = pd.read_csv('sentence_tokens.tsv', sep = '\\\\t', engine = 'python')"
   ]
  },
  {
   "cell_type": "code",
   "execution_count": 3,
   "id": "d97a23f4",
   "metadata": {},
   "outputs": [],
   "source": [
    "corpus = corpus.dropna(subset = ['text'])"
   ]
  },
  {
   "cell_type": "code",
   "execution_count": 4,
   "id": "ae88a8ab",
   "metadata": {
    "scrolled": true
   },
   "outputs": [],
   "source": [
    "corpus['docid'] = corpus['id'].str.split('\\.').str[0:3].apply('_'.join)"
   ]
  },
  {
   "cell_type": "code",
   "execution_count": 5,
   "id": "12c48429",
   "metadata": {},
   "outputs": [],
   "source": [
    "corpus = corpus.groupby('docid')['text'].apply(','.join).reset_index()"
   ]
  },
  {
   "cell_type": "code",
   "execution_count": 6,
   "id": "354dcf1b",
   "metadata": {},
   "outputs": [],
   "source": [
    "tokens = corpus['text'].str.split(',').fillna('')"
   ]
  },
  {
   "cell_type": "code",
   "execution_count": 7,
   "id": "1aafda47",
   "metadata": {},
   "outputs": [
    {
     "name": "stderr",
     "output_type": "stream",
     "text": [
      "C:\\Users\\Ben\\anaconda3\\envs\\embed\\lib\\site-packages\\sklearn\\feature_extraction\\text.py:517: UserWarning: The parameter 'token_pattern' will not be used since 'tokenizer' is not None'\n",
      "  \"The parameter 'token_pattern' will not be used\"\n"
     ]
    },
    {
     "data": {
      "text/plain": [
       "CountVectorizer(lowercase=False,\n",
       "                tokenizer=<function <lambda> at 0x00000188919113A8>)"
      ]
     },
     "execution_count": 7,
     "metadata": {},
     "output_type": "execute_result"
    }
   ],
   "source": [
    "vectorizer = CountVectorizer(tokenizer = lambda x: x, lowercase = False)\n",
    "vectorizer.fit(tokens)"
   ]
  },
  {
   "cell_type": "code",
   "execution_count": 8,
   "id": "fd23caa1",
   "metadata": {},
   "outputs": [],
   "source": [
    "vocab = vectorizer.vocabulary_"
   ]
  },
  {
   "cell_type": "code",
   "execution_count": 9,
   "id": "15a6e9f7",
   "metadata": {},
   "outputs": [],
   "source": [
    "def get_matrices(sample_tokens):\n",
    "    tfidf = TfidfVectorizer(tokenizer = lambda x: x, lowercase = False, vocabulary = vocab)\n",
    "    tfidf_mtx = tfidf.fit_transform(sample_tokens)\n",
    "    vectorizer = CountVectorizer(tokenizer = lambda x: x, lowercase = False, vocabulary = vocab)\n",
    "    dtm = vectorizer.fit_transform(sample_tokens)\n",
    "    return tfidf_mtx, dtm"
   ]
  },
  {
   "cell_type": "code",
   "execution_count": 10,
   "id": "fce9e474",
   "metadata": {},
   "outputs": [],
   "source": [
    "seed(932487)\n",
    "seeds = randint(1, 100000, 100)"
   ]
  },
  {
   "cell_type": "code",
   "execution_count": 11,
   "id": "1972ff45",
   "metadata": {},
   "outputs": [],
   "source": [
    "def init_lda(i):\n",
    "    seed(i)\n",
    "    ncomp = choice(range(20, 310, 10))\n",
    "    prior = choice(range(1, 50, 1)) / ncomp\n",
    "    lda = LatentDirichletAllocation(n_components = ncomp,\n",
    "                                   doc_topic_prior = prior,\n",
    "                                   topic_word_prior = prior,\n",
    "                                   n_jobs = -1,\n",
    "                                   random_state = i)\n",
    "    return lda    "
   ]
  },
  {
   "cell_type": "code",
   "execution_count": 12,
   "id": "9a4e2e88",
   "metadata": {},
   "outputs": [],
   "source": [
    "def run_lda(i, tokens):\n",
    "    sample_tokens = tokens.sample(n = len(tokens), replace = True, random_state = i)\n",
    "    tfidf_mtx, dtm = get_matrices(sample_tokens)\n",
    "    lda = init_lda(i)\n",
    "    lda.fit(dtm)\n",
    "    return lda.components_, tfidf_mtx"
   ]
  },
  {
   "cell_type": "code",
   "execution_count": 13,
   "id": "7f3801a2",
   "metadata": {},
   "outputs": [],
   "source": [
    "matrix_list = [run_lda(i, tokens) for i in seeds]"
   ]
  },
  {
   "cell_type": "code",
   "execution_count": 17,
   "id": "086a4870",
   "metadata": {},
   "outputs": [],
   "source": [
    "import numpy as np"
   ]
  },
  {
   "cell_type": "code",
   "execution_count": 31,
   "id": "ddcced14",
   "metadata": {},
   "outputs": [
    {
     "data": {
      "text/plain": [
       "(21086, 44640)"
      ]
     },
     "execution_count": 31,
     "metadata": {},
     "output_type": "execute_result"
    }
   ],
   "source": [
    "matrix_list[0][1].shape"
   ]
  },
  {
   "cell_type": "code",
   "execution_count": 32,
   "id": "637c8e5b",
   "metadata": {},
   "outputs": [
    {
     "data": {
      "text/plain": [
       "(80, 44640)"
      ]
     },
     "execution_count": 32,
     "metadata": {},
     "output_type": "execute_result"
    }
   ],
   "source": [
    "matrix_list[0][0].shape"
   ]
  },
  {
   "cell_type": "code",
   "execution_count": 36,
   "id": "2a190534",
   "metadata": {},
   "outputs": [],
   "source": [
    "tfidf = matrix_list[0][1].todense()"
   ]
  },
  {
   "cell_type": "code",
   "execution_count": 39,
   "id": "ae9bfb9b",
   "metadata": {},
   "outputs": [
    {
     "data": {
      "text/plain": [
       "(1, 44640)"
      ]
     },
     "execution_count": 39,
     "metadata": {},
     "output_type": "execute_result"
    }
   ],
   "source": [
    "tfidf[0].shape"
   ]
  },
  {
   "cell_type": "code",
   "execution_count": 45,
   "id": "e20b3270",
   "metadata": {},
   "outputs": [
    {
     "data": {
      "text/plain": [
       "(80, 44640)"
      ]
     },
     "execution_count": 45,
     "metadata": {},
     "output_type": "execute_result"
    }
   ],
   "source": [
    "matrix_list[0][0].shape"
   ]
  },
  {
   "cell_type": "code",
   "execution_count": 71,
   "id": "d8304c73",
   "metadata": {},
   "outputs": [
    {
     "ename": "MemoryError",
     "evalue": "Unable to allocate 27.2 MiB for an array with shape (80, 44640) and data type float64",
     "output_type": "error",
     "traceback": [
      "\u001b[1;31m---------------------------------------------------------------------------\u001b[0m",
      "\u001b[1;31mMemoryError\u001b[0m                               Traceback (most recent call last)",
      "\u001b[1;32m~\\AppData\\Local\\Temp\\ipykernel_15780\\2238416757.py\u001b[0m in \u001b[0;36m<module>\u001b[1;34m\u001b[0m\n\u001b[1;32m----> 1\u001b[1;33m \u001b[0mtest\u001b[0m \u001b[1;33m=\u001b[0m \u001b[1;33m[\u001b[0m\u001b[0mnp\u001b[0m\u001b[1;33m.\u001b[0m\u001b[0mmultiply\u001b[0m\u001b[1;33m(\u001b[0m\u001b[0mmatrix_list\u001b[0m\u001b[1;33m[\u001b[0m\u001b[1;36m0\u001b[0m\u001b[1;33m]\u001b[0m\u001b[1;33m[\u001b[0m\u001b[1;36m0\u001b[0m\u001b[1;33m]\u001b[0m\u001b[1;33m,\u001b[0m \u001b[0mtfidf\u001b[0m\u001b[1;33m[\u001b[0m\u001b[0mi\u001b[0m\u001b[1;33m]\u001b[0m\u001b[1;33m)\u001b[0m \u001b[1;32mfor\u001b[0m \u001b[0mi\u001b[0m \u001b[1;32min\u001b[0m \u001b[0mrange\u001b[0m\u001b[1;33m(\u001b[0m\u001b[0mtfidf\u001b[0m\u001b[1;33m.\u001b[0m\u001b[0mshape\u001b[0m\u001b[1;33m[\u001b[0m\u001b[1;36m0\u001b[0m\u001b[1;33m]\u001b[0m\u001b[1;33m)\u001b[0m\u001b[1;33m]\u001b[0m\u001b[1;33m\u001b[0m\u001b[1;33m\u001b[0m\u001b[0m\n\u001b[0m",
      "\u001b[1;32m~\\AppData\\Local\\Temp\\ipykernel_15780\\2238416757.py\u001b[0m in \u001b[0;36m<listcomp>\u001b[1;34m(.0)\u001b[0m\n\u001b[1;32m----> 1\u001b[1;33m \u001b[0mtest\u001b[0m \u001b[1;33m=\u001b[0m \u001b[1;33m[\u001b[0m\u001b[0mnp\u001b[0m\u001b[1;33m.\u001b[0m\u001b[0mmultiply\u001b[0m\u001b[1;33m(\u001b[0m\u001b[0mmatrix_list\u001b[0m\u001b[1;33m[\u001b[0m\u001b[1;36m0\u001b[0m\u001b[1;33m]\u001b[0m\u001b[1;33m[\u001b[0m\u001b[1;36m0\u001b[0m\u001b[1;33m]\u001b[0m\u001b[1;33m,\u001b[0m \u001b[0mtfidf\u001b[0m\u001b[1;33m[\u001b[0m\u001b[0mi\u001b[0m\u001b[1;33m]\u001b[0m\u001b[1;33m)\u001b[0m \u001b[1;32mfor\u001b[0m \u001b[0mi\u001b[0m \u001b[1;32min\u001b[0m \u001b[0mrange\u001b[0m\u001b[1;33m(\u001b[0m\u001b[0mtfidf\u001b[0m\u001b[1;33m.\u001b[0m\u001b[0mshape\u001b[0m\u001b[1;33m[\u001b[0m\u001b[1;36m0\u001b[0m\u001b[1;33m]\u001b[0m\u001b[1;33m)\u001b[0m\u001b[1;33m]\u001b[0m\u001b[1;33m\u001b[0m\u001b[1;33m\u001b[0m\u001b[0m\n\u001b[0m",
      "\u001b[1;31mMemoryError\u001b[0m: Unable to allocate 27.2 MiB for an array with shape (80, 44640) and data type float64"
     ]
    }
   ],
   "source": [
    "test = [np.multiply(matrix_list[0][0], tfidf[i]) for i in range(tfidf.shape[0])]"
   ]
  },
  {
   "cell_type": "code",
   "execution_count": 70,
   "id": "bcaab760",
   "metadata": {},
   "outputs": [
    {
     "ename": "ValueError",
     "evalue": "operands could not be broadcast together with shapes (80,44640) (44640,21086) ",
     "output_type": "error",
     "traceback": [
      "\u001b[1;31m---------------------------------------------------------------------------\u001b[0m",
      "\u001b[1;31mValueError\u001b[0m                                Traceback (most recent call last)",
      "\u001b[1;32m~\\AppData\\Local\\Temp\\ipykernel_15780\\540663262.py\u001b[0m in \u001b[0;36m<module>\u001b[1;34m\u001b[0m\n\u001b[1;32m----> 1\u001b[1;33m \u001b[0mtest\u001b[0m \u001b[1;33m=\u001b[0m \u001b[0mnp\u001b[0m\u001b[1;33m.\u001b[0m\u001b[0mmultiply\u001b[0m\u001b[1;33m(\u001b[0m\u001b[0mmatrix_list\u001b[0m\u001b[1;33m[\u001b[0m\u001b[1;36m0\u001b[0m\u001b[1;33m]\u001b[0m\u001b[1;33m[\u001b[0m\u001b[1;36m0\u001b[0m\u001b[1;33m]\u001b[0m\u001b[1;33m,\u001b[0m \u001b[0mtfidf\u001b[0m\u001b[1;33m.\u001b[0m\u001b[0mT\u001b[0m\u001b[1;33m)\u001b[0m\u001b[1;33m\u001b[0m\u001b[1;33m\u001b[0m\u001b[0m\n\u001b[0m",
      "\u001b[1;31mValueError\u001b[0m: operands could not be broadcast together with shapes (80,44640) (44640,21086) "
     ]
    }
   ],
   "source": [
    "test = "
   ]
  },
  {
   "cell_type": "code",
   "execution_count": 72,
   "id": "69a13d16",
   "metadata": {},
   "outputs": [
    {
     "data": {
      "text/plain": [
       "(80, 44640)"
      ]
     },
     "execution_count": 72,
     "metadata": {},
     "output_type": "execute_result"
    }
   ],
   "source": [
    "test.shape"
   ]
  }
 ],
 "metadata": {
  "kernelspec": {
   "display_name": "Python 3 (ipykernel)",
   "language": "python",
   "name": "python3"
  },
  "language_info": {
   "codemirror_mode": {
    "name": "ipython",
    "version": 3
   },
   "file_extension": ".py",
   "mimetype": "text/x-python",
   "name": "python",
   "nbconvert_exporter": "python",
   "pygments_lexer": "ipython3",
   "version": "3.7.13"
  }
 },
 "nbformat": 4,
 "nbformat_minor": 5
}
