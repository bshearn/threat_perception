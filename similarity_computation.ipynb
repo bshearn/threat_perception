{
 "cells": [
  {
   "cell_type": "code",
   "execution_count": 1,
   "id": "886d00b3",
   "metadata": {},
   "outputs": [],
   "source": [
    "import pandas as pd\n",
    "from numpy.random import randint, choice, seed\n",
    "from gensim.models import Word2Vec, KeyedVectors\n",
    "from dask import delayed, compute\n",
    "from dask.distributed import Client\n",
    "import dask.dataframe as dd\n",
    "from glob import glob\n",
    "import re"
   ]
  },
  {
   "cell_type": "code",
   "execution_count": 2,
   "id": "f784f36f",
   "metadata": {},
   "outputs": [],
   "source": [
    "vector_dir = 'G:/vectors/'"
   ]
  },
  {
   "cell_type": "code",
   "execution_count": 3,
   "id": "99637e9f",
   "metadata": {},
   "outputs": [],
   "source": [
    "vector_files = glob(vector_dir + '*wordvectors')"
   ]
  },
  {
   "cell_type": "code",
   "execution_count": 4,
   "id": "49e0588c",
   "metadata": {},
   "outputs": [],
   "source": [
    "countries = pd.read_csv('countries.csv')"
   ]
  },
  {
   "cell_type": "code",
   "execution_count": 5,
   "id": "1d2aae54",
   "metadata": {},
   "outputs": [],
   "source": [
    "countries = countries['country'].str.lower().unique()"
   ]
  },
  {
   "cell_type": "code",
   "execution_count": 6,
   "id": "314d0516",
   "metadata": {},
   "outputs": [],
   "source": [
    "def calculate_sim(filename, countries):\n",
    "    vectors = KeyedVectors.load(filename)\n",
    "    vocab = list(vectors.key_to_index)\n",
    "    if 'india' in vocab:\n",
    "        similarities = pd.DataFrame([{'country':country, 'similarity':vectors.similarity('india', country)}\n",
    "                         for country in countries if country in vocab])\n",
    "        similarities['month'] = re.search('\\\\d{1,2}-\\\\d{4}', filename).group(0)\n",
    "    else:\n",
    "        similarities = pd.DataFrame(columns = ['country', 'similarity', 'month'])\n",
    "    similarities = similarities.astype({'country':str, 'similarity':float, 'month':str})\n",
    "    return similarities"
   ]
  },
  {
   "cell_type": "code",
   "execution_count": 7,
   "id": "f19f3123",
   "metadata": {},
   "outputs": [],
   "source": [
    "# client = Client(n_workers = 8)"
   ]
  },
  {
   "cell_type": "code",
   "execution_count": 8,
   "id": "c243ea9c",
   "metadata": {},
   "outputs": [],
   "source": [
    "similarities = [delayed(calculate_sim)(filename, countries) for filename in vector_files]"
   ]
  },
  {
   "cell_type": "code",
   "execution_count": 9,
   "id": "87e3b2d6",
   "metadata": {},
   "outputs": [],
   "source": [
    "similarities = dd.from_delayed(similarities, meta = {'country':str, 'similarity':float, 'month':str})"
   ]
  },
  {
   "cell_type": "code",
   "execution_count": 10,
   "id": "5bc96467",
   "metadata": {},
   "outputs": [],
   "source": [
    "similarities = similarities.repartition(partition_size = '100MB')"
   ]
  },
  {
   "cell_type": "code",
   "execution_count": 11,
   "id": "a51e3264",
   "metadata": {},
   "outputs": [
    {
     "data": {
      "text/plain": [
       "(None,)"
      ]
     },
     "execution_count": 11,
     "metadata": {},
     "output_type": "execute_result"
    }
   ],
   "source": [
    "similarities.to_parquet('G:/country_similarities.parquet')"
   ]
  },
  {
   "cell_type": "code",
   "execution_count": 12,
   "id": "354ff83d",
   "metadata": {},
   "outputs": [],
   "source": [
    "# client.close()"
   ]
  }
 ],
 "metadata": {
  "kernelspec": {
   "display_name": "Python 3 (ipykernel)",
   "language": "python",
   "name": "python3"
  },
  "language_info": {
   "codemirror_mode": {
    "name": "ipython",
    "version": 3
   },
   "file_extension": ".py",
   "mimetype": "text/x-python",
   "name": "python",
   "nbconvert_exporter": "python",
   "pygments_lexer": "ipython3",
   "version": "3.7.13"
  }
 },
 "nbformat": 4,
 "nbformat_minor": 5
}
